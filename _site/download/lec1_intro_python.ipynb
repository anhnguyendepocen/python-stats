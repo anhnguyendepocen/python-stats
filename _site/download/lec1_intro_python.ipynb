{
 "cells": [
  {
   "cell_type": "markdown",
   "metadata": {},
   "source": [
    "### Markdown Cell Example\n",
    "\n",
    "I can put text here."
   ]
  },
  {
   "cell_type": "code",
   "execution_count": 1,
   "metadata": {},
   "outputs": [
    {
     "name": "stdout",
     "output_type": "stream",
     "text": [
      "Rogue One\n"
     ]
    }
   ],
   "source": [
    "movie = 'Rogue One'\n",
    "print(movie)"
   ]
  },
  {
   "cell_type": "code",
   "execution_count": 2,
   "metadata": {},
   "outputs": [
    {
     "name": "stdout",
     "output_type": "stream",
     "text": [
      "3\n"
     ]
    }
   ],
   "source": [
    "i = 1\n",
    "i = i + 1\n",
    "i += 1\n",
    "print(i)"
   ]
  },
  {
   "cell_type": "code",
   "execution_count": 3,
   "metadata": {},
   "outputs": [
    {
     "name": "stdout",
     "output_type": "stream",
     "text": [
      "AB\n",
      "mememe\n"
     ]
    }
   ],
   "source": [
    "print('A' + 'B')\n",
    "print('me'*3)"
   ]
  },
  {
   "cell_type": "code",
   "execution_count": 4,
   "metadata": {},
   "outputs": [
    {
     "name": "stdout",
     "output_type": "stream",
     "text": [
      "True\n",
      "False\n",
      "False\n"
     ]
    }
   ],
   "source": [
    "print('a' == 'a')\n",
    "print(\"a\" == 1)\n",
    "print(5 != 25/5)"
   ]
  },
  {
   "cell_type": "code",
   "execution_count": 5,
   "metadata": {},
   "outputs": [
    {
     "name": "stdout",
     "output_type": "stream",
     "text": [
      "h\n",
      "pp\n"
     ]
    }
   ],
   "source": [
    "mystring = 'happy'\n",
    "print(mystring[0])\n",
    "print(mystring[2:4])"
   ]
  },
  {
   "cell_type": "code",
   "execution_count": 6,
   "metadata": {},
   "outputs": [
    {
     "name": "stdout",
     "output_type": "stream",
     "text": [
      "hap\n",
      "y\n",
      "y\n",
      "ppy\n"
     ]
    }
   ],
   "source": [
    "print(mystring[:3])\n",
    "print(mystring[4])\n",
    "print(mystring[-1])\n",
    "print(mystring[2:])"
   ]
  },
  {
   "cell_type": "code",
   "execution_count": 7,
   "metadata": {},
   "outputs": [
    {
     "name": "stdout",
     "output_type": "stream",
     "text": [
      "Maz\n",
      "['Maz']\n"
     ]
    }
   ],
   "source": [
    "mylist = [\"Leia\", \"Rey\", \"Maz\"]\n",
    "print(mylist[-1])\n",
    "\n",
    "print(mylist[-1:])"
   ]
  },
  {
   "cell_type": "code",
   "execution_count": 8,
   "metadata": {},
   "outputs": [
    {
     "name": "stdout",
     "output_type": "stream",
     "text": [
      "Kylo\n"
     ]
    }
   ],
   "source": [
    "mydict = {'name': 'Kylo', 'side':'dark'}\n",
    "print(mydict['name'])"
   ]
  },
  {
   "cell_type": "code",
   "execution_count": 9,
   "metadata": {},
   "outputs": [
    {
     "name": "stdout",
     "output_type": "stream",
     "text": [
      "Yes\n"
     ]
    }
   ],
   "source": [
    "name = 'Grace Hopper'\n",
    "\n",
    "if len(name) < 20:\n",
    "    print('Yes')\n",
    "#else:\n",
    "#    print('No')"
   ]
  },
  {
   "cell_type": "code",
   "execution_count": 10,
   "metadata": {},
   "outputs": [
    {
     "name": "stdout",
     "output_type": "stream",
     "text": [
      "medium\n"
     ]
    }
   ],
   "source": [
    "if len(name) > 20:\n",
    "    print(\"long\")\n",
    "elif len(name) < 5:\n",
    "    print(\"small\")\n",
    "else:\n",
    "    print(\"medium\")"
   ]
  },
  {
   "cell_type": "code",
   "execution_count": 11,
   "metadata": {},
   "outputs": [
    {
     "name": "stdout",
     "output_type": "stream",
     "text": [
      "Grace Hopper has 4 vowels.\n"
     ]
    }
   ],
   "source": [
    "i = 0\n",
    "for letter in name:\n",
    "    if letter in ['a', 'e', 'i', 'o', 'u']:\n",
    "        i += 1\n",
    "print(name + ' has ' + str(i) + ' vowels.')"
   ]
  },
  {
   "cell_type": "code",
   "execution_count": 12,
   "metadata": {},
   "outputs": [
    {
     "name": "stdout",
     "output_type": "stream",
     "text": [
      "Grace Hopper has 4 vowels.\n"
     ]
    }
   ],
   "source": [
    "i = 0\n",
    "vowel_count = 0\n",
    "while i < len(name):\n",
    "    if name[i] in ['a', 'e', 'i', 'o', 'u']:\n",
    "        vowel_count = vowel_count + 1\n",
    "    i = i + 1\n",
    "print(name + ' has ' + str(vowel_count) + ' vowels.')"
   ]
  },
  {
   "cell_type": "code",
   "execution_count": 13,
   "metadata": {},
   "outputs": [
    {
     "name": "stdout",
     "output_type": "stream",
     "text": [
      "<class 'str'>\n",
      "<class 'int'>\n"
     ]
    }
   ],
   "source": [
    "print(type(name))\n",
    "print(type(vowel_count))"
   ]
  },
  {
   "cell_type": "code",
   "execution_count": 14,
   "metadata": {},
   "outputs": [
    {
     "name": "stdout",
     "output_type": "stream",
     "text": [
      "Hello, NaLette!\n"
     ]
    }
   ],
   "source": [
    "def say_hello(name_string):\n",
    "    \"\"\"Displays a hello statement with the string.\n",
    "       string -> None\"\"\"\n",
    "    print('Hello, ' + str(name_string) + '!')\n",
    "    return None\n",
    "\n",
    "say_hello('NaLette')"
   ]
  }
 ],
 "metadata": {
  "kernelspec": {
   "display_name": "Python 3",
   "language": "python",
   "name": "python3"
  },
  "language_info": {
   "codemirror_mode": {
    "name": "ipython",
    "version": 3
   },
   "file_extension": ".py",
   "mimetype": "text/x-python",
   "name": "python",
   "nbconvert_exporter": "python",
   "pygments_lexer": "ipython3",
   "version": "3.6.4"
  }
 },
 "nbformat": 4,
 "nbformat_minor": 2
}
