{
 "cells": [
  {
   "cell_type": "code",
   "execution_count": 22,
   "metadata": {},
   "outputs": [
    {
     "name": "stdout",
     "output_type": "stream",
     "text": [
      "Hello, world.\n"
     ]
    }
   ],
   "source": [
    "import numpy as np\n",
    "\n",
    "hello = 'Hello, world.'\n",
    "print(hello)"
   ]
  },
  {
   "cell_type": "code",
   "execution_count": 23,
   "metadata": {},
   "outputs": [
    {
     "name": "stdout",
     "output_type": "stream",
     "text": [
      "[1 2 3]\n"
     ]
    }
   ],
   "source": [
    "arr1 = np.array([1,2,3])\n",
    "print(arr1)"
   ]
  },
  {
   "cell_type": "code",
   "execution_count": 24,
   "metadata": {},
   "outputs": [
    {
     "name": "stdout",
     "output_type": "stream",
     "text": [
      "[[1 2]\n",
      " [3 4]]\n"
     ]
    }
   ],
   "source": [
    "arr2 = np.array([[1,2], [3,4]])\n",
    "print(arr2)"
   ]
  },
  {
   "cell_type": "code",
   "execution_count": 25,
   "metadata": {},
   "outputs": [
    {
     "name": "stdout",
     "output_type": "stream",
     "text": [
      "[[[1 2 3 4 5 6]]]\n",
      "[[[1. 2. 3. 4. 5. 6.]]]\n"
     ]
    }
   ],
   "source": [
    "arr3 = np.array([1,2,3,4,5,6], ndmin=3)\n",
    "print(arr3)\n",
    "\n",
    "arr_float = np.array(arr3, dtype=float)\n",
    "print(arr_float)"
   ]
  },
  {
   "cell_type": "code",
   "execution_count": 26,
   "metadata": {},
   "outputs": [
    {
     "name": "stdout",
     "output_type": "stream",
     "text": [
      "[False  True False  True]\n"
     ]
    }
   ],
   "source": [
    "arr_bool = np.array([0,1,0,1], dtype=bool)\n",
    "print(arr_bool)"
   ]
  },
  {
   "cell_type": "code",
   "execution_count": 27,
   "metadata": {},
   "outputs": [
    {
     "name": "stdout",
     "output_type": "stream",
     "text": [
      "[[[1 2 3 4 5 6]]]\n",
      "(1, 1, 6)\n"
     ]
    }
   ],
   "source": [
    "# get the array dimensions\n",
    "print(arr3)\n",
    "print(arr3.shape)"
   ]
  },
  {
   "cell_type": "code",
   "execution_count": 28,
   "metadata": {},
   "outputs": [
    {
     "name": "stdout",
     "output_type": "stream",
     "text": [
      "[[1 2]\n",
      " [3 4]]\n",
      "(2, 2)\n",
      "[[1]\n",
      " [2]\n",
      " [3]\n",
      " [4]]\n",
      "(4, 1)\n"
     ]
    }
   ],
   "source": [
    "arr4 = np.array(arr2)\n",
    "print(arr4)\n",
    "print(arr4.shape)\n",
    "\n",
    "arr4.shape = (4,1)\n",
    "print(arr4)\n",
    "print(arr4.shape)"
   ]
  },
  {
   "cell_type": "code",
   "execution_count": 29,
   "metadata": {},
   "outputs": [
    {
     "name": "stdout",
     "output_type": "stream",
     "text": [
      "[[1]\n",
      " [2]\n",
      " [3]\n",
      " [4]]\n"
     ]
    }
   ],
   "source": [
    "arr5 = arr2.reshape(4,1)\n",
    "print(arr5)"
   ]
  },
  {
   "cell_type": "code",
   "execution_count": 30,
   "metadata": {},
   "outputs": [
    {
     "name": "stdout",
     "output_type": "stream",
     "text": [
      "[ 5  7  9 11 13 15 17 19 21 23 25 27 29]\n",
      "[ 5  7  9 11 13]\n",
      "[ 9 11 13]\n",
      "[19 21 23 25 27 29]\n"
     ]
    }
   ],
   "source": [
    "a = np.arange(5,30,2)\n",
    "print(a)\n",
    "print(a[:5])\n",
    "print(a[2:5])\n",
    "print(a[7:])"
   ]
  },
  {
   "cell_type": "code",
   "execution_count": 31,
   "metadata": {},
   "outputs": [
    {
     "name": "stdout",
     "output_type": "stream",
     "text": [
      "[29 27 25 23 21 19 17 15 13 11  9  7  5]\n"
     ]
    }
   ],
   "source": [
    "print(a[::-1])"
   ]
  },
  {
   "cell_type": "code",
   "execution_count": 32,
   "metadata": {},
   "outputs": [
    {
     "name": "stdout",
     "output_type": "stream",
     "text": [
      "[[ 1  2  3  4  5]\n",
      " [ 2  4  6  8 10]\n",
      " [ 3  6  9 12 15]\n",
      " [ 5 10 15 20 25]\n",
      " [ 6 12 18 24 30]] \n",
      "\n",
      "[[1 2 3 4 5]] \n",
      "\n",
      "[[ 2  4  6  8 10]\n",
      " [ 3  6  9 12 15]\n",
      " [ 5 10 15 20 25]\n",
      " [ 6 12 18 24 30]] \n",
      "\n",
      "[[ 1  2  3  4  5]\n",
      " [ 3  6  9 12 15]\n",
      " [ 6 12 18 24 30]] \n",
      "\n",
      "[[1 2]]\n"
     ]
    }
   ],
   "source": [
    "b = np.array([[1,2,3,4,5], [2,4,6,8,10],\n",
    "[3,6,9,12,15], [5,10,15,20,25], [6,12,18,24,30]])\n",
    "print(b, '\\n')\n",
    "print(b[:1], '\\n') \n",
    "print(b[1:], '\\n') \n",
    "print(b[::2], '\\n') \n",
    "print(b[:1, :2])"
   ]
  },
  {
   "cell_type": "code",
   "execution_count": 33,
   "metadata": {},
   "outputs": [
    {
     "name": "stdout",
     "output_type": "stream",
     "text": [
      "[[  1   2]\n",
      " [100   4]\n",
      " [  3   6]]\n",
      "[[  1   2   3   4]\n",
      " [100   4   6   8]\n",
      " [  3   6   9  12]]\n"
     ]
    }
   ],
   "source": [
    "k = np.array([[1,2,3,4], [2,4,6,8],\n",
    "[3,6,9,12]])\n",
    "\n",
    "#print(k)\n",
    "\n",
    "ksub = k[:3, :2]\n",
    "#print(k, '\\n')\n",
    "#print(ksub)\n",
    "\n",
    "ksub[1,0] = 100\n",
    "print(ksub)\n",
    "print(k)"
   ]
  },
  {
   "cell_type": "code",
   "execution_count": 34,
   "metadata": {},
   "outputs": [
    {
     "name": "stdout",
     "output_type": "stream",
     "text": [
      "[ 9 18 27 36] \n",
      " [10 20 30 40] \n",
      " [ 7 14 21 28]\n",
      "[ 9 18 27 36 10 20 30 40]\n",
      "[ 9 18 27 36 10 20 30 40  7 14 21 28]\n"
     ]
    }
   ],
   "source": [
    "m = np.array([9,18,27,36])\n",
    "n = np.array([10,20,30,40])\n",
    "o = np.array([7,14,21,28])\n",
    "\n",
    "print(m,'\\n', n, '\\n', o)\n",
    "print(np.concatenate([m,n]))\n",
    "print(np.concatenate([m,n,o]))"
   ]
  },
  {
   "cell_type": "code",
   "execution_count": 35,
   "metadata": {},
   "outputs": [
    {
     "name": "stdout",
     "output_type": "stream",
     "text": [
      "[[ 9 18 27 36]\n",
      " [10 20 30 40]\n",
      " [ 7 14 21 28]]\n",
      "[ 9 18 27 36 10 20 30 40  7 14 21 28]\n"
     ]
    }
   ],
   "source": [
    "print(np.vstack([m,n,o]))\n",
    "print(np.hstack([m,n,o]))"
   ]
  },
  {
   "cell_type": "code",
   "execution_count": 36,
   "metadata": {},
   "outputs": [
    {
     "name": "stdout",
     "output_type": "stream",
     "text": [
      "r = [0 1 2 3 4 5 6 7]\n",
      "r + 10 = [10 11 12 13 14 15 16 17]\n",
      "r / 2 = [0.  0.5 1.  1.5 2.  2.5 3.  3.5]\n"
     ]
    }
   ],
   "source": [
    "r = np.arange(8)\n",
    "print(\"r =\", r)\n",
    "print(\"r + 10 =\", r + 10)\n",
    "print(\"r / 2 =\", r / 2)"
   ]
  },
  {
   "cell_type": "code",
   "execution_count": 37,
   "metadata": {},
   "outputs": [
    {
     "name": "stdout",
     "output_type": "stream",
     "text": [
      "[0.  0.5 1.  1.5 2.  2.5 3.  3.5]\n",
      "3.42 µs ± 61.2 ns per loop (mean ± std. dev. of 7 runs, 100000 loops each)\n",
      "100\n",
      "17.3 µs ± 435 ns per loop (mean ± std. dev. of 7 runs, 100000 loops each)\n",
      "100\n"
     ]
    }
   ],
   "source": [
    "s = np.arange(100)\n",
    "\n",
    "def div_by_2(array):\n",
    "    v = np.empty(len(array))\n",
    "    for i in range(len(array)):\n",
    "        v[i] = i /2\n",
    "    return v\n",
    "\n",
    "r2 = div_by_2(r)\n",
    "print(r2)\n",
    "\n",
    "s2_numpy = s / 2\n",
    "%timeit s2_numpy = s / 2\n",
    "print(len(s2_numpy))\n",
    "\n",
    "s2_loop = div_by_2(s)\n",
    "%timeit s2_loop = div_by_2(s)\n",
    "print(len(s2_loop))"
   ]
  },
  {
   "cell_type": "code",
   "execution_count": 38,
   "metadata": {},
   "outputs": [
    {
     "name": "stdout",
     "output_type": "stream",
     "text": [
      "509.84916383416936\n",
      "(0.0022995895148677503, 0.9996766126350027)\n"
     ]
    }
   ],
   "source": [
    "X = np.random.random(1000)\n",
    "print(np.sum(X))\n",
    "\n",
    "x_range = (X.min(), X.max())\n",
    "print(x_range)"
   ]
  },
  {
   "cell_type": "code",
   "execution_count": 39,
   "metadata": {},
   "outputs": [
    {
     "name": "stdout",
     "output_type": "stream",
     "text": [
      "[[0.63713346 0.06727692 0.59180048 0.74508809]\n",
      " [0.17130833 0.71009388 0.17683449 0.18485247]\n",
      " [0.87727176 0.99859765 0.79142694 0.25374275]] \n",
      "\n",
      "[1.68571354 1.77596844 1.56006191 1.18368331] \n",
      "\n",
      "[2.04129894 1.24308916 2.92103909]\n"
     ]
    }
   ],
   "source": [
    "Y = np.random.random((3,4))\n",
    "print(Y, '\\n')\n",
    "\n",
    "print(Y.sum(axis=0), '\\n')\n",
    "print(Y.sum(axis=1))"
   ]
  },
  {
   "cell_type": "code",
   "execution_count": 40,
   "metadata": {},
   "outputs": [
    {
     "name": "stdout",
     "output_type": "stream",
     "text": [
      "[4 4 2 3 5 2 7 9 8 5 7 1 1 8 1 6 2 4 5 8 3 5 5 1 4 4 8 4 4 7 8 3 8 2 5 8 5\n",
      " 2 6 3 3 1 7 2 3 8 2 6 4 1 1 6 6 6 1 2 1 1 4 8 1 3 5 4 9 9 3 5 4 5 4 7 9 4\n",
      " 9 5 5 4 9 6 6 8 1 7 4 3 1 8 2 2 4 5 9 4 1 3 6 8 2 5]\n",
      "mean = 4.59\n",
      "variance = 6.161899999999999\n",
      "standard deviation = 2.482317465595406\n",
      "median = 4.0\n"
     ]
    }
   ],
   "source": [
    "Z = np.random.randint(1,10,100)\n",
    "print(Z)\n",
    "\n",
    "print(\"mean =\", np.mean(Z))\n",
    "print(\"variance =\", np.var(Z))\n",
    "print(\"standard deviation =\", np.std(Z))\n",
    "print(\"median =\", np.median(Z))"
   ]
  }
 ],
 "metadata": {
  "kernelspec": {
   "display_name": "Python 3",
   "language": "python",
   "name": "python3"
  },
  "language_info": {
   "codemirror_mode": {
    "name": "ipython",
    "version": 3
   },
   "file_extension": ".py",
   "mimetype": "text/x-python",
   "name": "python",
   "nbconvert_exporter": "python",
   "pygments_lexer": "ipython3",
   "version": "3.6.4"
  }
 },
 "nbformat": 4,
 "nbformat_minor": 2
}
